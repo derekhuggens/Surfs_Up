{
 "cells": [
  {
   "cell_type": "code",
   "execution_count": 1,
   "metadata": {},
   "outputs": [],
   "source": [
    "# Dependencies\n",
    "import numpy as np\n",
    "import pandas as pd\n",
    "# Python SQL toolkit and Object Relational Mapper\n",
    "import sqlalchemy\n",
    "from sqlalchemy.ext.automap import automap_base\n",
    "from sqlalchemy.orm import Session\n",
    "from sqlalchemy import create_engine, func\n",
    "\n",
    "# plotting\n",
    "import matplotlib.pyplot as plt"
   ]
  },
  {
   "cell_type": "code",
   "execution_count": 2,
   "metadata": {},
   "outputs": [],
   "source": [
    "engine = create_engine(\"sqlite:///hawaii.sqlite\")\n",
    "\n",
    "# reflect an existing database into a new model\n",
    "Base = automap_base()\n",
    "# reflect the tables\n",
    "Base.prepare(engine, reflect=True)\n",
    "\n",
    "# Save references to each table\n",
    "Measurement = Base.classes.measurement\n",
    "Station = Base.classes.station"
   ]
  },
  {
   "cell_type": "code",
   "execution_count": 3,
   "metadata": {},
   "outputs": [],
   "source": [
    "# Create our session (link) from Python to the DB\n",
    "session = Session(engine)"
   ]
  },
  {
   "cell_type": "markdown",
   "metadata": {},
   "source": [
    "## D1: Determine the Summary Statistics for June"
   ]
  },
  {
   "cell_type": "code",
   "execution_count": 4,
   "metadata": {},
   "outputs": [],
   "source": [
    "# 1. Import the sqlalchemy extract function.\n",
    "from sqlalchemy import extract\n",
    "\n",
    "# 2. Write a query that filters the Measurement table to retrieve the temperatures for the month of June. \n",
    "june_results = session.query(Measurement.tobs).filter(extract('month', Measurement.date)==6).all()"
   ]
  },
  {
   "cell_type": "code",
   "execution_count": 5,
   "metadata": {
    "tags": []
   },
   "outputs": [
    {
     "name": "stdout",
     "output_type": "stream",
     "text": [
      "[78.0, 76.0, 78.0, 76.0, 77.0, 78.0, 77.0, 78.0, 78.0, 79.0, 78.0, 78.0, 78.0, 77.0, 78.0, 78.0, 77.0, 77.0, 82.0, 78.0, 78.0, 78.0, 78.0, 78.0, 77.0, 76.0, 78.0, 78.0, 78.0, 78.0, 77.0, 78.0, 73.0, 70.0, 76.0, 77.0, 77.0, 77.0, 77.0, 78.0, 77.0, 77.0, 78.0, 78.0, 77.0, 78.0, 78.0, 75.0, 76.0, 76.0, 77.0, 78.0, 76.0, 77.0, 75.0, 77.0, 76.0, 76.0, 75.0, 77.0, 77.0, 76.0, 78.0, 77.0, 76.0, 77.0, 76.0, 76.0, 77.0, 77.0, 78.0, 77.0, 77.0, 77.0, 76.0, 75.0, 76.0, 76.0, 77.0, 76.0, 73.0, 73.0, 75.0, 77.0, 76.0, 77.0, 79.0, 78.0, 79.0, 78.0, 78.0, 79.0, 77.0, 77.0, 77.0, 77.0, 77.0, 78.0, 77.0, 76.0, 78.0, 78.0, 77.0, 78.0, 78.0, 73.0, 76.0, 77.0, 75.0, 76.0, 74.0, 75.0, 77.0, 76.0, 77.0, 78.0, 79.0, 77.0, 78.0, 79.0, 78.0, 78.0, 78.0, 78.0, 79.0, 79.0, 82.0, 80.0, 79.0, 79.0, 78.0, 78.0, 77.0, 78.0, 78.0, 73.0, 75.0, 75.0, 76.0, 84.0, 79.0, 76.0, 79.0, 79.0, 77.0, 79.0, 78.0, 78.0, 79.0, 77.0, 79.0, 78.0, 78.0, 78.0, 79.0, 77.0, 78.0, 78.0, 78.0, 78.0, 79.0, 79.0, 77.0, 78.0, 78.0, 78.0, 79.0, 79.0, 77.0, 79.0, 79.0, 79.0, 81.0, 76.0, 80.0, 78.0, 76.0, 71.0, 71.0, 74.0, 76.0, 78.0, 77.0, 77.0, 73.0, 77.0, 78.0, 78.0, 80.0, 79.0, 78.0, 77.0, 76.0, 77.0, 77.0, 78.0, 80.0, 79.0, 79.0, 77.0, 78.0, 79.0, 80.0, 76.0, 79.0, 80.0, 79.0, 79.0, 79.0, 79.0, 80.0, 79.0, 79.0, 80.0, 80.0, 77.0, 79.0, 83.0, 80.0, 80.0, 78.0, 79.0, 80.0, 77.0, 80.0, 78.0, 79.0, 80.0, 78.0, 80.0, 80.0, 81.0, 80.0, 79.0, 79.0, 75.0, 74.0, 76.0, 75.0, 75.0, 74.0, 75.0, 75.0, 75.0, 75.0, 75.0, 83.0, 75.0, 76.0, 73.0, 74.0, 74.0, 75.0, 70.0, 74.0, 75.0, 75.0, 75.0, 75.0, 75.0, 74.0, 72.0, 76.0, 73.0, 75.0, 76.0, 74.0, 75.0, 71.0, 69.0, 69.0, 74.0, 71.0, 74.0, 74.0, 75.0, 73.0, 73.0, 73.0, 75.0, 75.0, 74.0, 74.0, 75.0, 74.0, 73.0, 72.0, 74.0, 72.0, 75.0, 76.0, 74.0, 74.0, 74.0, 74.0, 74.0, 71.0, 71.0, 75.0, 72.0, 72.0, 73.0, 73.0, 73.0, 74.0, 73.0, 72.0, 72.0, 70.0, 72.0, 72.0, 72.0, 74.0, 73.0, 73.0, 70.0, 73.0, 72.0, 73.0, 69.0, 72.0, 71.0, 71.0, 73.0, 73.0, 72.0, 75.0, 75.0, 75.0, 75.0, 74.0, 74.0, 74.0, 75.0, 75.0, 74.0, 75.0, 75.0, 74.0, 72.0, 74.0, 74.0, 74.0, 74.0, 74.0, 72.0, 70.0, 75.0, 74.0, 71.0, 71.0, 70.0, 73.0, 71.0, 71.0, 77.0, 77.0, 74.0, 73.0, 75.0, 75.0, 74.0, 74.0, 75.0, 75.0, 72.0, 74.0, 76.0, 76.0, 75.0, 75.0, 74.0, 72.0, 74.0, 75.0, 70.0, 71.0, 72.0, 71.0, 73.0, 74.0, 72.0, 74.0, 76.0, 72.0, 75.0, 75.0, 72.0, 70.0, 76.0, 78.0, 72.0, 74.0, 74.0, 72.0, 71.0, 79.0, 79.0, 76.0, 75.0, 72.0, 74.0, 76.0, 76.0, 77.0, 75.0, 76.0, 75.0, 75.0, 76.0, 76.0, 74.0, 70.0, 69.0, 70.0, 68.0, 70.0, 74.0, 75.0, 74.0, 71.0, 73.0, 75.0, 74.0, 76.0, 76.0, 76.0, 76.0, 75.0, 75.0, 75.0, 74.0, 73.0, 76.0, 74.0, 78.0, 71.0, 75.0, 75.0, 74.0, 77.0, 77.0, 76.0, 76.0, 76.0, 78.0, 76.0, 75.0, 75.0, 76.0, 78.0, 75.0, 73.0, 76.0, 76.0, 76.0, 77.0, 76.0, 77.0, 72.0, 77.0, 75.0, 82.0, 77.0, 76.0, 74.0, 73.0, 77.0, 77.0, 77.0, 76.0, 74.0, 73.0, 72.0, 74.0, 73.0, 72.0, 75.0, 74.0, 75.0, 73.0, 75.0, 76.0, 74.0, 74.0, 73.0, 73.0, 76.0, 75.0, 70.0, 75.0, 73.0, 74.0, 74.0, 74.0, 74.0, 70.0, 75.0, 74.0, 73.0, 74.0, 72.0, 73.0, 67.0, 69.0, 76.0, 73.0, 70.0, 72.0, 74.0, 72.0, 72.0, 75.0, 73.0, 73.0, 72.0, 74.0, 76.0, 72.0, 74.0, 70.0, 74.0, 74.0, 74.0, 71.0, 75.0, 75.0, 76.0, 77.0, 75.0, 74.0, 75.0, 76.0, 78.0, 78.0, 76.0, 78.0, 76.0, 76.0, 78.0, 79.0, 77.0, 76.0, 77.0, 77.0, 76.0, 78.0, 76.0, 76.0, 77.0, 71.0, 74.0, 72.0, 77.0, 77.0, 78.0, 77.0, 77.0, 76.0, 75.0, 79.0, 75.0, 73.0, 76.0, 78.0, 77.0, 78.0, 76.0, 75.0, 76.0, 77.0, 74.0, 78.0, 77.0, 77.0, 74.0, 74.0, 78.0, 79.0, 79.0, 78.0, 75.0, 76.0, 78.0, 78.0, 74.0, 78.0, 77.0, 76.0, 78.0, 78.0, 78.0, 78.0, 74.0, 79.0, 77.0, 73.0, 79.0, 79.0, 78.0, 77.0, 78.0, 78.0, 80.0, 80.0, 79.0, 74.0, 71.0, 74.0, 75.0, 75.0, 74.0, 76.0, 75.0, 77.0, 77.0, 79.0, 79.0, 78.0, 79.0, 73.0, 78.0, 79.0, 80.0, 76.0, 79.0, 79.0, 77.0, 80.0, 79.0, 78.0, 78.0, 79.0, 78.0, 81.0, 78.0, 80.0, 79.0, 81.0, 80.0, 81.0, 79.0, 81.0, 78.0, 79.0, 79.0, 75.0, 79.0, 78.0, 80.0, 78.0, 77.0, 78.0, 79.0, 76.0, 80.0, 76.0, 81.0, 77.0, 76.0, 77.0, 75.0, 76.0, 79.0, 79.0, 77.0, 76.0, 77.0, 76.0, 73.0, 76.0, 77.0, 77.0, 78.0, 77.0, 76.0, 78.0, 78.0, 75.0, 77.0, 65.0, 76.0, 74.0, 76.0, 76.0, 77.0, 77.0, 76.0, 77.0, 76.0, 77.0, 74.0, 76.0, 73.0, 75.0, 76.0, 75.0, 76.0, 75.0, 74.0, 74.0, 74.0, 74.0, 76.0, 76.0, 77.0, 77.0, 78.0, 73.0, 75.0, 72.0, 76.0, 76.0, 73.0, 74.0, 72.0, 76.0, 76.0, 76.0, 78.0, 78.0, 78.0, 78.0, 75.0, 77.0, 73.0, 78.0, 75.0, 73.0, 77.0, 80.0, 70.0, 78.0, 72.0, 78.0, 72.0, 78.0, 77.0, 79.0, 77.0, 78.0, 74.0, 79.0, 79.0, 79.0, 79.0, 77.0, 79.0, 78.0, 80.0, 81.0, 81.0, 78.0, 77.0, 78.0, 79.0, 77.0, 79.0, 80.0, 79.0, 78.0, 79.0, 79.0, 79.0, 81.0, 64.0, 65.0, 75.0, 76.0, 78.0, 77.0, 75.0, 78.0, 81.0, 78.0, 76.0, 73.0, 74.0, 76.0, 78.0, 79.0, 78.0, 72.0, 78.0, 80.0, 81.0, 79.0, 78.0, 80.0, 80.0, 78.0, 80.0, 81.0, 78.0, 77.0, 78.0, 78.0, 77.0, 76.0, 81.0, 76.0, 82.0, 80.0, 80.0, 79.0, 74.0, 69.0, 70.0, 67.0, 70.0, 73.0, 73.0, 72.0, 72.0, 77.0, 70.0, 78.0, 73.0, 75.0, 70.0, 74.0, 77.0, 69.0, 73.0, 73.0, 74.0, 73.0, 72.0, 75.0, 73.0, 76.0, 74.0, 76.0, 73.0, 76.0, 76.0, 78.0, 75.0, 77.0, 75.0, 73.0, 76.0, 71.0, 71.0, 76.0, 76.0, 76.0, 73.0, 78.0, 77.0, 77.0, 77.0, 78.0, 78.0, 76.0, 76.0, 79.0, 74.0, 75.0, 76.0, 75.0, 73.0, 76.0, 78.0, 76.0, 79.0, 77.0, 76.0, 74.0, 75.0, 76.0, 76.0, 76.0, 79.0, 76.0, 72.0, 71.0, 72.0, 76.0, 74.0, 75.0, 76.0, 77.0, 76.0, 75.0, 76.0, 76.0, 76.0, 75.0, 76.0, 76.0, 79.0, 74.0, 73.0, 75.0, 74.0, 75.0, 76.0, 72.0, 74.0, 74.0, 75.0, 75.0, 74.0, 75.0, 77.0, 75.0, 74.0, 75.0, 74.0, 75.0, 73.0, 75.0, 76.0, 76.0, 76.0, 79.0, 74.0, 78.0, 80.0, 75.0, 72.0, 72.0, 74.0, 78.0, 76.0, 77.0, 72.0, 72.0, 73.0, 75.0, 79.0, 81.0, 76.0, 76.0, 77.0, 78.0, 79.0, 79.0, 75.0, 79.0, 79.0, 75.0, 77.0, 81.0, 76.0, 75.0, 78.0, 81.0, 76.0, 76.0, 76.0, 72.0, 73.0, 74.0, 74.0, 75.0, 73.0, 73.0, 76.0, 73.0, 79.0, 78.0, 76.0, 76.0, 76.0, 77.0, 79.0, 80.0, 78.0, 76.0, 78.0, 78.0, 77.0, 79.0, 79.0, 75.0, 76.0, 77.0, 74.0, 77.0, 76.0, 76.0, 75.0, 74.0, 79.0, 76.0, 74.0, 76.0, 77.0, 78.0, 77.0, 75.0, 75.0, 80.0, 77.0, 77.0, 77.0, 80.0, 76.0, 78.0, 77.0, 79.0, 79.0, 77.0, 75.0, 76.0, 78.0, 78.0, 80.0, 78.0, 79.0, 79.0, 77.0, 77.0, 81.0, 75.0, 72.0, 75.0, 75.0, 75.0, 75.0, 73.0, 78.0, 77.0, 80.0, 72.0, 78.0, 78.0, 77.0, 78.0, 79.0, 80.0, 76.0, 77.0, 79.0, 79.0, 77.0, 79.0, 80.0, 80.0, 77.0, 79.0, 81.0, 78.0, 80.0, 79.0, 79.0, 81.0, 79.0, 81.0, 78.0, 78.0, 78.0, 77.0, 78.0, 75.0, 81.0, 80.0, 77.0, 80.0, 78.0, 80.0, 77.0, 78.0, 78.0, 80.0, 80.0, 79.0, 82.0, 80.0, 81.0, 81.0, 79.0, 78.0, 75.0, 71.0, 71.0, 72.0, 72.0, 76.0, 77.0, 71.0, 73.0, 73.0, 75.0, 81.0, 74.0, 77.0, 70.0, 69.0, 70.0, 72.0, 71.0, 77.0, 76.0, 74.0, 74.0, 74.0, 74.0, 71.0, 80.0, 77.0, 72.0, 72.0, 73.0, 72.0, 73.0, 73.0, 77.0, 76.0, 79.0, 78.0, 82.0, 79.0, 76.0, 74.0, 74.0, 73.0, 79.0, 77.0, 73.0, 72.0, 72.0, 73.0, 74.0, 77.0, 73.0, 73.0, 72.0, 72.0, 67.0, 71.0, 73.0, 78.0, 71.0, 72.0, 70.0, 72.0, 73.0, 74.0, 81.0, 72.0, 77.0, 69.0, 69.0, 69.0, 78.0, 78.0, 73.0, 72.0, 71.0, 72.0, 72.0, 73.0, 71.0, 70.0, 71.0, 68.0, 72.0, 71.0, 78.0, 81.0, 74.0, 74.0, 73.0, 73.0, 72.0, 73.0, 77.0, 73.0, 73.0, 75.0, 72.0, 72.0, 73.0, 73.0, 75.0, 72.0, 73.0, 70.0, 69.0, 68.0, 75.0, 74.0, 73.0, 70.0, 70.0, 71.0, 70.0, 70.0, 75.0, 74.0, 72.0, 74.0, 73.0, 73.0, 70.0, 73.0, 75.0, 73.0, 69.0, 80.0, 73.0, 72.0, 80.0, 80.0, 69.0, 70.0, 69.0, 72.0, 68.0, 74.0, 75.0, 70.0, 70.0, 72.0, 71.0, 70.0, 77.0, 73.0, 71.0, 76.0, 68.0, 71.0, 70.0, 68.0, 79.0, 75.0, 71.0, 69.0, 71.0, 72.0, 69.0, 72.0, 75.0, 71.0, 72.0, 70.0, 71.0, 72.0, 75.0, 75.0, 71.0, 73.0, 71.0, 71.0, 74.0, 74.0, 78.0, 72.0, 69.0, 69.0, 67.0, 68.0, 65.0, 70.0, 72.0, 74.0, 73.0, 71.0, 75.0, 72.0, 75.0, 76.0, 75.0, 76.0, 75.0, 71.0, 75.0, 75.0, 72.0, 72.0, 75.0, 73.0, 76.0, 74.0, 77.0, 72.0, 71.0, 76.0, 77.0, 80.0, 76.0, 76.0, 77.0, 75.0, 75.0, 75.0, 75.0, 72.0, 74.0, 74.0, 74.0, 76.0, 74.0, 75.0, 73.0, 79.0, 75.0, 72.0, 72.0, 74.0, 72.0, 72.0, 77.0, 71.0, 73.0, 76.0, 77.0, 76.0, 76.0, 74.0, 76.0, 78.0, 74.0, 79.0, 79.0, 69.0, 77.0, 80.0, 75.0, 75.0, 78.0, 71.0, 76.0, 74.0, 78.0, 72.0, 78.0, 85.0, 77.0, 76.0, 76.0, 75.0, 71.0, 70.0, 80.0, 77.0, 70.0, 73.0, 73.0, 76.0, 70.0, 71.0, 80.0, 70.0, 68.0, 74.0, 75.0, 75.0, 78.0, 76.0, 69.0, 73.0, 76.0, 72.0, 72.0, 80.0, 76.0, 71.0, 68.0, 71.0, 72.0, 75.0, 80.0, 75.0, 74.0, 74.0, 69.0, 70.0, 73.0, 76.0, 76.0, 74.0, 71.0, 72.0, 73.0, 77.0, 77.0, 77.0, 79.0, 77.0, 77.0, 78.0, 78.0, 81.0, 76.0, 74.0, 71.0, 78.0, 71.0, 76.0, 81.0, 73.0, 72.0, 72.0, 74.0, 72.0, 79.0, 80.0, 81.0, 75.0, 80.0, 73.0, 74.0, 73.0, 81.0, 79.0, 78.0, 74.0, 74.0, 73.0, 73.0, 77.0, 77.0, 74.0, 73.0, 70.0, 69.0, 72.0, 79.0, 77.0, 70.0, 71.0, 67.0, 66.0, 78.0, 80.0, 80.0, 79.0, 68.0, 67.0, 71.0, 72.0, 79.0, 80.0, 72.0, 68.0, 84.0, 82.0, 79.0, 78.0, 81.0, 77.0, 71.0, 69.0, 73.0, 68.0, 75.0, 79.0, 70.0, 70.0, 73.0, 71.0, 68.0, 78.0, 69.0, 70.0, 67.0, 68.0, 68.0, 71.0, 74.0, 69.0, 69.0, 66.0, 67.0, 69.0, 72.0, 72.0, 72.0, 70.0, 75.0, 73.0, 70.0, 71.0, 70.0, 78.0, 73.0, 68.0, 79.0, 74.0, 75.0, 71.0, 75.0, 76.0, 73.0, 73.0, 74.0, 72.0, 72.0, 72.0, 70.0, 69.0, 73.0, 71.0, 73.0, 72.0, 69.0, 72.0, 66.0, 67.0, 71.0, 71.0, 72.0, 72.0, 71.0, 71.0, 71.0, 69.0, 68.0, 71.0, 73.0, 72.0, 74.0, 70.0, 72.0, 71.0, 71.0, 70.0, 70.0, 69.0, 74.0, 69.0, 72.0, 70.0, 72.0, 72.0, 69.0, 73.0, 71.0, 72.0, 71.0, 72.0, 71.0, 74.0, 74.0, 75.0, 69.0, 75.0, 70.0, 73.0, 72.0, 70.0, 73.0, 71.0, 70.0, 69.0, 71.0, 68.0, 68.0, 68.0, 69.0, 69.0, 69.0, 71.0, 78.0, 72.0, 73.0, 71.0, 72.0, 72.0, 71.0, 74.0, 71.0, 72.0, 72.0, 74.0, 72.0, 69.0, 70.0, 76.0, 70.0, 71.0, 73.0, 68.0, 68.0, 69.0, 70.0, 69.0, 69.0, 70.0, 71.0, 70.0, 67.0, 72.0, 72.0, 75.0, 73.0, 73.0, 72.0, 71.0, 77.0, 73.0, 70.0, 70.0, 76.0, 72.0, 73.0, 77.0, 73.0, 70.0, 68.0, 69.0, 70.0, 70.0, 73.0, 70.0, 69.0, 71.0, 70.0, 70.0, 72.0, 71.0, 70.0, 69.0, 72.0, 72.0, 71.0, 76.0, 71.0, 72.0, 70.0, 72.0, 72.0, 71.0, 72.0, 69.0, 70.0, 73.0, 70.0, 72.0, 72.0, 71.0, 73.0, 72.0, 73.0, 72.0, 71.0, 70.0, 75.0, 72.0, 70.0, 72.0, 70.0, 71.0, 70.0, 73.0, 72.0, 71.0, 71.0, 69.0, 70.0, 73.0, 75.0, 73.0, 72.0, 70.0, 70.0, 69.0, 73.0, 74.0, 72.0, 71.0, 73.0, 72.0, 73.0, 74.0, 72.0, 74.0, 72.0, 74.0, 74.0, 77.0, 74.0, 74.0, 79.0, 75.0, 72.0, 76.0, 74.0, 73.0, 74.0, 77.0, 74.0, 72.0, 77.0, 76.0, 74.0, 75.0, 76.0, 71.0, 73.0, 79.0, 79.0, 74.0, 74.0, 76.0, 75.0]\n"
     ]
    }
   ],
   "source": [
    "#  3. Convert the June temperatures to a list.\n",
    "june_temps = list(np.ravel(june_results))\n",
    "print(june_temps)"
   ]
  },
  {
   "cell_type": "code",
   "execution_count": 6,
   "metadata": {
    "tags": []
   },
   "outputs": [
    {
     "name": "stdout",
     "output_type": "stream",
     "text": [
      "      June Temperatures\n",
      "0                  78.0\n",
      "1                  76.0\n",
      "2                  78.0\n",
      "3                  76.0\n",
      "4                  77.0\n",
      "...                 ...\n",
      "1695               79.0\n",
      "1696               74.0\n",
      "1697               74.0\n",
      "1698               76.0\n",
      "1699               75.0\n",
      "\n",
      "[1700 rows x 1 columns]\n"
     ]
    }
   ],
   "source": [
    "# 4. Create a DataFrame from the list of temperatures for the month of June. \n",
    "june_df = pd.DataFrame(june_temps, columns=['June Temperatures'])\n",
    "print(june_df)"
   ]
  },
  {
   "cell_type": "code",
   "execution_count": 7,
   "metadata": {},
   "outputs": [
    {
     "data": {
      "text/html": [
       "<div>\n",
       "<style scoped>\n",
       "    .dataframe tbody tr th:only-of-type {\n",
       "        vertical-align: middle;\n",
       "    }\n",
       "\n",
       "    .dataframe tbody tr th {\n",
       "        vertical-align: top;\n",
       "    }\n",
       "\n",
       "    .dataframe thead th {\n",
       "        text-align: right;\n",
       "    }\n",
       "</style>\n",
       "<table border=\"1\" class=\"dataframe\">\n",
       "  <thead>\n",
       "    <tr style=\"text-align: right;\">\n",
       "      <th></th>\n",
       "      <th>June Temperatures</th>\n",
       "    </tr>\n",
       "  </thead>\n",
       "  <tbody>\n",
       "    <tr>\n",
       "      <th>count</th>\n",
       "      <td>1700.000000</td>\n",
       "    </tr>\n",
       "    <tr>\n",
       "      <th>mean</th>\n",
       "      <td>74.944118</td>\n",
       "    </tr>\n",
       "    <tr>\n",
       "      <th>std</th>\n",
       "      <td>3.257417</td>\n",
       "    </tr>\n",
       "    <tr>\n",
       "      <th>min</th>\n",
       "      <td>64.000000</td>\n",
       "    </tr>\n",
       "    <tr>\n",
       "      <th>25%</th>\n",
       "      <td>73.000000</td>\n",
       "    </tr>\n",
       "    <tr>\n",
       "      <th>50%</th>\n",
       "      <td>75.000000</td>\n",
       "    </tr>\n",
       "    <tr>\n",
       "      <th>75%</th>\n",
       "      <td>77.000000</td>\n",
       "    </tr>\n",
       "    <tr>\n",
       "      <th>max</th>\n",
       "      <td>85.000000</td>\n",
       "    </tr>\n",
       "  </tbody>\n",
       "</table>\n",
       "</div>"
      ],
      "text/plain": [
       "       June Temperatures\n",
       "count        1700.000000\n",
       "mean           74.944118\n",
       "std             3.257417\n",
       "min            64.000000\n",
       "25%            73.000000\n",
       "50%            75.000000\n",
       "75%            77.000000\n",
       "max            85.000000"
      ]
     },
     "execution_count": 7,
     "metadata": {},
     "output_type": "execute_result"
    }
   ],
   "source": [
    "# 5. Calculate and print out the summary statistics for the June temperature DataFrame.\n",
    "june_df.describe()"
   ]
  },
  {
   "cell_type": "markdown",
   "metadata": {},
   "source": [
    "## D2: Determine the Summary Statistics for December"
   ]
  },
  {
   "cell_type": "code",
   "execution_count": 8,
   "metadata": {},
   "outputs": [],
   "source": [
    "# 6. Write a query that filters the Measurement table to retrieve the temperatures for the month of December.\n",
    "dec_results = session.query(Measurement.tobs).filter(extract('month', Measurement.date)==12).all()"
   ]
  },
  {
   "cell_type": "code",
   "execution_count": 9,
   "metadata": {
    "tags": []
   },
   "outputs": [
    {
     "name": "stdout",
     "output_type": "stream",
     "text": [
      "[76.0, 74.0, 74.0, 64.0, 64.0, 67.0, 77.0, 66.0, 69.0, 68.0, 68.0, 71.0, 74.0, 67.0, 66.0, 69.0, 71.0, 70.0, 70.0, 74.0, 74.0, 71.0, 75.0, 75.0, 72.0, 69.0, 68.0, 73.0, 74.0, 73.0, 73.0, 73.0, 73.0, 71.0, 73.0, 73.0, 77.0, 72.0, 71.0, 73.0, 70.0, 73.0, 69.0, 74.0, 72.0, 71.0, 72.0, 72.0, 70.0, 73.0, 73.0, 72.0, 73.0, 73.0, 72.0, 63.0, 65.0, 71.0, 76.0, 70.0, 76.0, 69.0, 69.0, 69.0, 74.0, 76.0, 74.0, 73.0, 73.0, 74.0, 73.0, 73.0, 73.0, 74.0, 74.0, 71.0, 73.0, 72.0, 64.0, 66.0, 73.0, 72.0, 65.0, 64.0, 69.0, 68.0, 77.0, 71.0, 71.0, 69.0, 68.0, 68.0, 69.0, 70.0, 72.0, 76.0, 75.0, 69.0, 71.0, 71.0, 71.0, 68.0, 65.0, 70.0, 69.0, 69.0, 71.0, 67.0, 73.0, 74.0, 73.0, 67.0, 74.0, 75.0, 75.0, 74.0, 67.0, 73.0, 73.0, 71.0, 72.0, 71.0, 68.0, 65.0, 69.0, 70.0, 70.0, 74.0, 71.0, 74.0, 73.0, 72.0, 74.0, 72.0, 74.0, 75.0, 74.0, 70.0, 74.0, 70.0, 66.0, 61.0, 63.0, 63.0, 63.0, 63.0, 67.0, 56.0, 75.0, 77.0, 75.0, 75.0, 75.0, 75.0, 71.0, 70.0, 74.0, 74.0, 75.0, 72.0, 70.0, 66.0, 74.0, 75.0, 74.0, 75.0, 76.0, 74.0, 75.0, 74.0, 73.0, 68.0, 73.0, 74.0, 74.0, 77.0, 70.0, 70.0, 69.0, 75.0, 72.0, 69.0, 71.0, 68.0, 67.0, 69.0, 73.0, 70.0, 70.0, 70.0, 66.0, 67.0, 70.0, 66.0, 62.0, 71.0, 73.0, 69.0, 77.0, 74.0, 71.0, 72.0, 74.0, 74.0, 74.0, 74.0, 71.0, 73.0, 69.0, 66.0, 73.0, 72.0, 73.0, 74.0, 73.0, 66.0, 64.0, 66.0, 75.0, 65.0, 69.0, 71.0, 69.0, 78.0, 74.0, 68.0, 68.0, 70.0, 70.0, 71.0, 71.0, 71.0, 71.0, 69.0, 69.0, 72.0, 76.0, 72.0, 73.0, 73.0, 74.0, 69.0, 68.0, 74.0, 73.0, 73.0, 72.0, 71.0, 71.0, 68.0, 72.0, 71.0, 72.0, 71.0, 71.0, 72.0, 71.0, 71.0, 72.0, 72.0, 72.0, 69.0, 71.0, 71.0, 69.0, 74.0, 72.0, 71.0, 71.0, 72.0, 71.0, 67.0, 65.0, 70.0, 76.0, 68.0, 71.0, 71.0, 68.0, 70.0, 73.0, 73.0, 72.0, 71.0, 70.0, 72.0, 71.0, 72.0, 72.0, 71.0, 70.0, 71.0, 71.0, 71.0, 66.0, 65.0, 73.0, 72.0, 72.0, 65.0, 65.0, 68.0, 67.0, 76.0, 70.0, 71.0, 69.0, 67.0, 69.0, 71.0, 69.0, 72.0, 76.0, 75.0, 72.0, 75.0, 71.0, 69.0, 68.0, 68.0, 72.0, 70.0, 72.0, 75.0, 69.0, 72.0, 73.0, 73.0, 72.0, 73.0, 74.0, 73.0, 72.0, 68.0, 72.0, 71.0, 69.0, 67.0, 70.0, 72.0, 67.0, 67.0, 69.0, 67.0, 74.0, 70.0, 73.0, 71.0, 71.0, 71.0, 71.0, 72.0, 76.0, 78.0, 76.0, 73.0, 70.0, 68.0, 77.0, 66.0, 65.0, 69.0, 69.0, 66.0, 64.0, 74.0, 75.0, 80.0, 72.0, 73.0, 70.0, 69.0, 77.0, 74.0, 77.0, 72.0, 69.0, 69.0, 75.0, 75.0, 72.0, 73.0, 78.0, 75.0, 75.0, 74.0, 73.0, 70.0, 70.0, 72.0, 74.0, 74.0, 67.0, 74.0, 70.0, 73.0, 71.0, 71.0, 69.0, 68.0, 70.0, 71.0, 72.0, 70.0, 71.0, 72.0, 68.0, 68.0, 70.0, 70.0, 63.0, 71.0, 67.0, 69.0, 74.0, 72.0, 70.0, 69.0, 73.0, 74.0, 74.0, 73.0, 71.0, 72.0, 69.0, 71.0, 73.0, 73.0, 71.0, 72.0, 71.0, 64.0, 71.0, 62.0, 70.0, 64.0, 64.0, 70.0, 70.0, 69.0, 72.0, 68.0, 68.0, 65.0, 67.0, 68.0, 70.0, 67.0, 73.0, 70.0, 68.0, 72.0, 69.0, 71.0, 70.0, 75.0, 70.0, 68.0, 73.0, 71.0, 71.0, 70.0, 70.0, 70.0, 70.0, 72.0, 74.0, 71.0, 70.0, 70.0, 69.0, 71.0, 70.0, 70.0, 72.0, 72.0, 72.0, 72.0, 72.0, 70.0, 66.0, 71.0, 68.0, 79.0, 76.0, 73.0, 75.0, 71.0, 76.0, 74.0, 73.0, 73.0, 74.0, 73.0, 72.0, 76.0, 75.0, 77.0, 74.0, 76.0, 75.0, 76.0, 73.0, 75.0, 73.0, 73.0, 74.0, 78.0, 78.0, 78.0, 75.0, 75.0, 75.0, 74.0, 77.0, 72.0, 72.0, 73.0, 71.0, 75.0, 76.0, 74.0, 75.0, 74.0, 75.0, 73.0, 72.0, 72.0, 75.0, 74.0, 74.0, 72.0, 73.0, 70.0, 76.0, 78.0, 76.0, 78.0, 74.0, 71.0, 78.0, 70.0, 74.0, 74.0, 75.0, 76.0, 78.0, 72.0, 73.0, 76.0, 72.0, 72.0, 78.0, 76.0, 76.0, 77.0, 79.0, 73.0, 79.0, 77.0, 78.0, 76.0, 78.0, 77.0, 79.0, 75.0, 77.0, 76.0, 78.0, 78.0, 77.0, 78.0, 78.0, 76.0, 75.0, 72.0, 75.0, 77.0, 75.0, 77.0, 76.0, 76.0, 75.0, 72.0, 76.0, 75.0, 72.0, 72.0, 75.0, 69.0, 75.0, 74.0, 78.0, 77.0, 76.0, 72.0, 73.0, 74.0, 74.0, 74.0, 73.0, 73.0, 71.0, 72.0, 72.0, 75.0, 66.0, 66.0, 67.0, 76.0, 68.0, 69.0, 71.0, 70.0, 68.0, 66.0, 69.0, 69.0, 71.0, 72.0, 69.0, 72.0, 70.0, 76.0, 69.0, 71.0, 72.0, 71.0, 78.0, 73.0, 74.0, 68.0, 71.0, 76.0, 75.0, 74.0, 73.0, 73.0, 74.0, 69.0, 74.0, 72.0, 70.0, 67.0, 69.0, 73.0, 75.0, 74.0, 72.0, 71.0, 67.0, 74.0, 70.0, 70.0, 70.0, 71.0, 70.0, 71.0, 71.0, 68.0, 74.0, 75.0, 74.0, 77.0, 76.0, 77.0, 75.0, 76.0, 75.0, 77.0, 75.0, 77.0, 74.0, 78.0, 77.0, 76.0, 69.0, 70.0, 64.0, 75.0, 69.0, 65.0, 76.0, 81.0, 71.0, 71.0, 71.0, 82.0, 74.0, 75.0, 77.0, 74.0, 68.0, 72.0, 70.0, 68.0, 74.0, 71.0, 70.0, 70.0, 70.0, 68.0, 68.0, 68.0, 66.0, 71.0, 76.0, 73.0, 70.0, 68.0, 71.0, 71.0, 68.0, 71.0, 70.0, 73.0, 78.0, 76.0, 73.0, 74.0, 63.0, 72.0, 75.0, 74.0, 72.0, 68.0, 74.0, 73.0, 73.0, 72.0, 73.0, 72.0, 78.0, 74.0, 74.0, 78.0, 78.0, 61.0, 69.0, 65.0, 77.0, 67.0, 69.0, 75.0, 67.0, 71.0, 74.0, 66.0, 66.0, 77.0, 70.0, 73.0, 71.0, 71.0, 71.0, 67.0, 71.0, 74.0, 76.0, 72.0, 74.0, 75.0, 69.0, 69.0, 69.0, 75.0, 73.0, 73.0, 72.0, 72.0, 72.0, 74.0, 72.0, 73.0, 73.0, 73.0, 73.0, 74.0, 73.0, 71.0, 72.0, 73.0, 74.0, 72.0, 73.0, 73.0, 71.0, 73.0, 75.0, 71.0, 72.0, 73.0, 71.0, 65.0, 77.0, 72.0, 78.0, 71.0, 72.0, 71.0, 72.0, 76.0, 75.0, 75.0, 76.0, 73.0, 72.0, 74.0, 74.0, 74.0, 73.0, 77.0, 73.0, 70.0, 72.0, 76.0, 65.0, 74.0, 73.0, 77.0, 76.0, 69.0, 78.0, 76.0, 68.0, 76.0, 68.0, 79.0, 69.0, 64.0, 70.0, 69.0, 73.0, 70.0, 74.0, 76.0, 76.0, 69.0, 73.0, 73.0, 65.0, 70.0, 72.0, 72.0, 75.0, 74.0, 69.0, 73.0, 75.0, 76.0, 74.0, 73.0, 74.0, 71.0, 72.0, 73.0, 72.0, 72.0, 73.0, 72.0, 75.0, 76.0, 67.0, 69.0, 70.0, 75.0, 74.0, 71.0, 74.0, 71.0, 72.0, 74.0, 75.0, 73.0, 75.0, 76.0, 68.0, 71.0, 68.0, 66.0, 63.0, 62.0, 67.0, 68.0, 63.0, 56.0, 76.0, 75.0, 74.0, 76.0, 69.0, 71.0, 72.0, 74.0, 75.0, 72.0, 78.0, 69.0, 75.0, 75.0, 74.0, 74.0, 76.0, 73.0, 75.0, 75.0, 74.0, 79.0, 75.0, 76.0, 76.0, 69.0, 72.0, 76.0, 75.0, 75.0, 75.0, 70.0, 70.0, 74.0, 73.0, 72.0, 78.0, 67.0, 69.0, 71.0, 74.0, 63.0, 76.0, 76.0, 71.0, 76.0, 77.0, 73.0, 71.0, 78.0, 78.0, 75.0, 75.0, 72.0, 77.0, 72.0, 72.0, 71.0, 72.0, 74.0, 66.0, 61.0, 58.0, 60.0, 71.0, 65.0, 72.0, 70.0, 68.0, 67.0, 71.0, 65.0, 64.0, 65.0, 69.0, 70.0, 70.0, 68.0, 69.0, 71.0, 70.0, 71.0, 76.0, 71.0, 72.0, 73.0, 77.0, 67.0, 69.0, 72.0, 74.0, 71.0, 70.0, 68.0, 70.0, 66.0, 72.0, 70.0, 70.0, 70.0, 70.0, 73.0, 71.0, 69.0, 73.0, 72.0, 71.0, 69.0, 70.0, 69.0, 70.0, 75.0, 71.0, 70.0, 69.0, 71.0, 65.0, 67.0, 72.0, 67.0, 76.0, 67.0, 72.0, 69.0, 66.0, 75.0, 74.0, 72.0, 72.0, 72.0, 68.0, 74.0, 73.0, 73.0, 72.0, 70.0, 70.0, 71.0, 70.0, 72.0, 65.0, 62.0, 73.0, 71.0, 70.0, 62.0, 69.0, 69.0, 66.0, 72.0, 73.0, 70.0, 66.0, 64.0, 65.0, 73.0, 74.0, 67.0, 73.0, 70.0, 67.0, 71.0, 78.0, 69.0, 63.0, 64.0, 66.0, 69.0, 69.0, 71.0, 72.0, 69.0, 70.0, 73.0, 68.0, 69.0, 73.0, 73.0, 70.0, 65.0, 70.0, 68.0, 68.0, 66.0, 68.0, 65.0, 62.0, 62.0, 65.0, 61.0, 70.0, 68.0, 67.0, 68.0, 71.0, 69.0, 71.0, 71.0, 71.0, 72.0, 72.0, 68.0, 69.0, 66.0, 60.0, 63.0, 68.0, 64.0, 63.0, 63.0, 59.0, 73.0, 74.0, 75.0, 75.0, 70.0, 72.0, 69.0, 68.0, 74.0, 72.0, 75.0, 79.0, 69.0, 67.0, 73.0, 74.0, 75.0, 72.0, 76.0, 74.0, 75.0, 74.0, 74.0, 76.0, 74.0, 75.0, 75.0, 73.0, 76.0, 74.0, 73.0, 74.0, 70.0, 72.0, 70.0, 67.0, 67.0, 69.0, 70.0, 68.0, 69.0, 69.0, 66.0, 65.0, 68.0, 62.0, 75.0, 70.0, 69.0, 76.0, 76.0, 74.0, 73.0, 71.0, 74.0, 74.0, 72.0, 71.0, 72.0, 74.0, 69.0, 67.0, 70.0, 74.0, 74.0, 75.0, 69.0, 65.0, 66.0, 68.0, 77.0, 65.0, 72.0, 65.0, 66.0, 74.0, 66.0, 63.0, 63.0, 69.0, 69.0, 73.0, 72.0, 68.0, 67.0, 69.0, 74.0, 72.0, 76.0, 70.0, 73.0, 70.0, 76.0, 66.0, 69.0, 69.0, 70.0, 71.0, 73.0, 65.0, 71.0, 65.0, 75.0, 72.0, 74.0, 67.0, 65.0, 68.0, 66.0, 73.0, 74.0, 76.0, 72.0, 69.0, 71.0, 70.0, 70.0, 73.0, 71.0, 76.0, 72.0, 77.0, 70.0, 65.0, 72.0, 75.0, 68.0, 72.0, 64.0, 75.0, 69.0, 80.0, 73.0, 73.0, 73.0, 72.0, 73.0, 75.0, 76.0, 74.0, 72.0, 72.0, 70.0, 70.0, 71.0, 61.0, 65.0, 74.0, 71.0, 63.0, 64.0, 66.0, 68.0, 66.0, 70.0, 68.0, 68.0, 66.0, 75.0, 67.0, 70.0, 72.0, 69.0, 72.0, 69.0, 65.0, 71.0, 73.0, 69.0, 69.0, 63.0, 63.0, 71.0, 79.0, 67.0, 67.0, 64.0, 63.0, 68.0, 77.0, 79.0, 74.0, 68.0, 64.0, 70.0, 62.0, 68.0, 67.0, 70.0, 66.0, 64.0, 62.0, 64.0, 63.0, 69.0, 64.0, 70.0, 72.0, 72.0, 64.0, 71.0, 68.0, 81.0, 78.0, 69.0, 72.0, 70.0, 62.0, 76.0, 72.0, 76.0, 57.0, 64.0, 57.0, 71.0, 70.0, 67.0, 77.0, 69.0, 61.0, 62.0, 63.0, 73.0, 64.0, 67.0, 69.0, 80.0, 71.0, 73.0, 65.0, 68.0, 68.0, 69.0, 72.0, 69.0, 69.0, 67.0, 69.0, 73.0, 71.0, 71.0, 70.0, 71.0, 70.0, 75.0, 71.0, 73.0, 71.0, 71.0, 68.0, 67.0, 70.0, 67.0, 69.0, 71.0, 69.0, 69.0, 68.0, 69.0, 69.0, 67.0, 69.0, 68.0, 70.0, 68.0, 69.0, 71.0, 65.0, 69.0, 69.0, 69.0, 69.0, 70.0, 73.0, 67.0, 74.0, 77.0, 74.0, 73.0, 71.0, 73.0, 68.0, 69.0, 71.0, 72.0, 72.0, 67.0, 67.0, 69.0, 66.0, 66.0, 69.0, 66.0, 68.0, 65.0, 68.0, 67.0, 71.0, 65.0, 71.0, 69.0, 69.0, 62.0, 62.0, 67.0, 65.0, 68.0, 67.0, 75.0, 68.0, 68.0, 70.0, 83.0, 68.0, 70.0, 70.0, 68.0, 76.0, 72.0, 68.0, 64.0, 72.0, 72.0, 68.0, 70.0, 69.0, 68.0, 70.0, 67.0, 70.0, 70.0, 71.0, 70.0, 69.0, 71.0, 68.0, 70.0, 67.0, 70.0, 73.0, 70.0, 66.0, 70.0, 72.0, 71.0, 68.0, 71.0, 67.0, 65.0, 66.0, 70.0, 69.0, 70.0, 72.0, 67.0, 68.0, 64.0, 66.0, 65.0, 62.0, 68.0, 67.0, 73.0, 70.0, 71.0, 71.0, 70.0, 71.0, 69.0, 70.0, 73.0, 70.0, 72.0, 71.0, 69.0, 74.0, 73.0, 69.0, 71.0, 68.0, 72.0, 71.0, 70.0, 72.0, 71.0, 69.0, 71.0, 67.0, 71.0, 69.0, 71.0, 71.0, 67.0, 76.0, 67.0, 67.0, 68.0, 71.0, 68.0, 68.0, 69.0, 65.0, 70.0, 69.0, 64.0, 60.0, 67.0, 72.0, 73.0, 70.0, 68.0, 69.0, 69.0, 69.0, 71.0, 71.0, 71.0, 69.0, 65.0, 65.0]\n"
     ]
    }
   ],
   "source": [
    "# 7. Convert the December temperatures to a list.\n",
    "dec_temps = list(np.ravel(dec_results))\n",
    "print(dec_temps)"
   ]
  },
  {
   "cell_type": "code",
   "execution_count": 10,
   "metadata": {
    "tags": []
   },
   "outputs": [
    {
     "name": "stdout",
     "output_type": "stream",
     "text": [
      "      December Temperatures\n",
      "0                      76.0\n",
      "1                      74.0\n",
      "2                      74.0\n",
      "3                      64.0\n",
      "4                      64.0\n",
      "...                     ...\n",
      "1512                   71.0\n",
      "1513                   71.0\n",
      "1514                   69.0\n",
      "1515                   65.0\n",
      "1516                   65.0\n",
      "\n",
      "[1517 rows x 1 columns]\n"
     ]
    }
   ],
   "source": [
    "# 8. Create a DataFrame from the list of temperatures for the month of December. \n",
    "dec_df = pd.DataFrame(dec_temps, columns=['December Temperatures'])\n",
    "print(dec_df)"
   ]
  },
  {
   "cell_type": "code",
   "execution_count": 11,
   "metadata": {},
   "outputs": [
    {
     "data": {
      "text/html": [
       "<div>\n",
       "<style scoped>\n",
       "    .dataframe tbody tr th:only-of-type {\n",
       "        vertical-align: middle;\n",
       "    }\n",
       "\n",
       "    .dataframe tbody tr th {\n",
       "        vertical-align: top;\n",
       "    }\n",
       "\n",
       "    .dataframe thead th {\n",
       "        text-align: right;\n",
       "    }\n",
       "</style>\n",
       "<table border=\"1\" class=\"dataframe\">\n",
       "  <thead>\n",
       "    <tr style=\"text-align: right;\">\n",
       "      <th></th>\n",
       "      <th>December Temperatures</th>\n",
       "    </tr>\n",
       "  </thead>\n",
       "  <tbody>\n",
       "    <tr>\n",
       "      <th>count</th>\n",
       "      <td>1517.000000</td>\n",
       "    </tr>\n",
       "    <tr>\n",
       "      <th>mean</th>\n",
       "      <td>71.041529</td>\n",
       "    </tr>\n",
       "    <tr>\n",
       "      <th>std</th>\n",
       "      <td>3.745920</td>\n",
       "    </tr>\n",
       "    <tr>\n",
       "      <th>min</th>\n",
       "      <td>56.000000</td>\n",
       "    </tr>\n",
       "    <tr>\n",
       "      <th>25%</th>\n",
       "      <td>69.000000</td>\n",
       "    </tr>\n",
       "    <tr>\n",
       "      <th>50%</th>\n",
       "      <td>71.000000</td>\n",
       "    </tr>\n",
       "    <tr>\n",
       "      <th>75%</th>\n",
       "      <td>74.000000</td>\n",
       "    </tr>\n",
       "    <tr>\n",
       "      <th>max</th>\n",
       "      <td>83.000000</td>\n",
       "    </tr>\n",
       "  </tbody>\n",
       "</table>\n",
       "</div>"
      ],
      "text/plain": [
       "       December Temperatures\n",
       "count            1517.000000\n",
       "mean               71.041529\n",
       "std                 3.745920\n",
       "min                56.000000\n",
       "25%                69.000000\n",
       "50%                71.000000\n",
       "75%                74.000000\n",
       "max                83.000000"
      ]
     },
     "execution_count": 11,
     "metadata": {},
     "output_type": "execute_result"
    }
   ],
   "source": [
    "# 9. Calculate and print out the summary statistics for the Decemeber temperature DataFrame.\n",
    "dec_df.describe()"
   ]
  },
  {
   "cell_type": "code",
   "execution_count": 12,
   "metadata": {},
   "outputs": [
    {
     "name": "stdout",
     "output_type": "stream",
     "text": [
      "       June Temperatures  December Temperatures\n",
      "count        1700.000000            1517.000000\n",
      "mean           74.944118              71.041529\n",
      "std             3.257417               3.745920\n",
      "min            64.000000              56.000000\n",
      "25%            73.000000              69.000000\n",
      "50%            75.000000              71.000000\n",
      "75%            77.000000              74.000000\n",
      "max            85.000000              83.000000\n"
     ]
    }
   ],
   "source": [
    "june_descriptive = june_df.describe()\n",
    "dec_descriptive = dec_df.describe()\n",
    "june_december_describe = june_descriptive.merge(dec_descriptive, left_index=True, right_index=True)\n",
    "print(june_december_describe)"
   ]
  },
  {
   "cell_type": "code",
   "execution_count": 13,
   "metadata": {},
   "outputs": [
    {
     "data": {
      "image/png": "[encoded data removed]",
      "text/plain": [
       "<Figure size 432x288 with 1 Axes>"
      ]
     },
     "metadata": {
      "needs_background": "light"
     },
     "output_type": "display_data"
    },
    {
     "data": {
      "image/png": "[encoded data removed]",
      "text/plain": [
       "<Figure size 432x288 with 1 Axes>"
      ]
     },
     "metadata": {
      "needs_background": "light"
     },
     "output_type": "display_data"
    }
   ],
   "source": [
    "june_df.plot.hist(bins=15)\n",
    "plt.xlabel(\"Temperature in ($^\\circ$F)\")\n",
    "plt.tight_layout()\n",
    "\n",
    "dec_df.plot.hist(bins=15)\n",
    "plt.xlabel(\"Temperature in ($^\\circ$F)\")\n",
    "plt.tight_layout()"
   ]
  },
  {
   "cell_type": "code",
   "execution_count": 14,
   "metadata": {},
   "outputs": [],
   "source": [
    "june_matching_sample = june_df.sample(n=1500,replace=False)"
   ]
  },
  {
   "cell_type": "code",
   "execution_count": 15,
   "metadata": {},
   "outputs": [
    {
     "data": {
      "text/html": [
       "<div>\n",
       "<style scoped>\n",
       "    .dataframe tbody tr th:only-of-type {\n",
       "        vertical-align: middle;\n",
       "    }\n",
       "\n",
       "    .dataframe tbody tr th {\n",
       "        vertical-align: top;\n",
       "    }\n",
       "\n",
       "    .dataframe thead th {\n",
       "        text-align: right;\n",
       "    }\n",
       "</style>\n",
       "<table border=\"1\" class=\"dataframe\">\n",
       "  <thead>\n",
       "    <tr style=\"text-align: right;\">\n",
       "      <th></th>\n",
       "      <th>June Temperatures</th>\n",
       "    </tr>\n",
       "  </thead>\n",
       "  <tbody>\n",
       "    <tr>\n",
       "      <th>count</th>\n",
       "      <td>1500.000000</td>\n",
       "    </tr>\n",
       "    <tr>\n",
       "      <th>mean</th>\n",
       "      <td>74.933333</td>\n",
       "    </tr>\n",
       "    <tr>\n",
       "      <th>std</th>\n",
       "      <td>3.276591</td>\n",
       "    </tr>\n",
       "    <tr>\n",
       "      <th>min</th>\n",
       "      <td>64.000000</td>\n",
       "    </tr>\n",
       "    <tr>\n",
       "      <th>25%</th>\n",
       "      <td>72.000000</td>\n",
       "    </tr>\n",
       "    <tr>\n",
       "      <th>50%</th>\n",
       "      <td>75.000000</td>\n",
       "    </tr>\n",
       "    <tr>\n",
       "      <th>75%</th>\n",
       "      <td>77.000000</td>\n",
       "    </tr>\n",
       "    <tr>\n",
       "      <th>max</th>\n",
       "      <td>85.000000</td>\n",
       "    </tr>\n",
       "  </tbody>\n",
       "</table>\n",
       "</div>"
      ],
      "text/plain": [
       "       June Temperatures\n",
       "count        1500.000000\n",
       "mean           74.933333\n",
       "std             3.276591\n",
       "min            64.000000\n",
       "25%            72.000000\n",
       "50%            75.000000\n",
       "75%            77.000000\n",
       "max            85.000000"
      ]
     },
     "execution_count": 15,
     "metadata": {},
     "output_type": "execute_result"
    }
   ],
   "source": [
    "june_matching_sample.describe()"
   ]
  },
  {
   "cell_type": "code",
   "execution_count": 16,
   "metadata": {},
   "outputs": [
    {
     "data": {
      "text/plain": [
       "[(53.0, 87.0, 73.09795396419437)]"
      ]
     },
     "execution_count": 16,
     "metadata": {},
     "output_type": "execute_result"
    }
   ],
   "source": [
    "session.query(func.min(Measurement.tobs), func.max(Measurement.tobs), func.avg(Measurement.tobs)).all()"
   ]
  },
  {
   "cell_type": "code",
   "execution_count": 17,
   "metadata": {},
   "outputs": [],
   "source": [
    "june_below_avg_temps = session.query(Measurement.tobs, Measurement.date).filter(extract('month', Measurement.date)==6).filter(Measurement.tobs <= 73.10).all()"
   ]
  },
  {
   "cell_type": "code",
   "execution_count": 19,
   "metadata": {},
   "outputs": [
    {
     "name": "stdout",
     "output_type": "stream",
     "text": [
      "            temps\n",
      "date             \n",
      "2011-06-03   73.0\n",
      "2011-06-04   70.0\n",
      "2012-06-25   73.0\n",
      "2012-06-26   73.0\n",
      "2013-06-20   73.0\n",
      "...           ...\n",
      "2017-06-10   72.0\n",
      "2017-06-13   73.0\n",
      "2017-06-17   72.0\n",
      "2017-06-23   71.0\n",
      "2017-06-24   73.0\n",
      "\n",
      "[565 rows x 1 columns]\n"
     ]
    }
   ],
   "source": [
    "june_below_avg_temps_df = pd.DataFrame(june_below_avg_temps, columns=['temps','date'])\n",
    "june_below_avg_temps_df.set_index(june_below_avg_temps_df['date'], inplace=True)\n",
    "print(june_below_avg_temps_df.drop(['date'], axis=1))"
   ]
  },
  {
   "cell_type": "code",
   "execution_count": 20,
   "metadata": {},
   "outputs": [
    {
     "data": {
      "text/plain": [
       "temps    565\n",
       "date     565\n",
       "dtype: int64"
      ]
     },
     "execution_count": 20,
     "metadata": {},
     "output_type": "execute_result"
    }
   ],
   "source": [
    "june_below_avg_temps_df.count()"
   ]
  },
  {
   "cell_type": "code",
   "execution_count": 21,
   "metadata": {},
   "outputs": [],
   "source": [
    "dec_below_avg_temps = session.query(Measurement.tobs, Measurement.date).filter(extract('month', Measurement.date)==12).filter(Measurement.tobs <= 73.10).all()"
   ]
  },
  {
   "cell_type": "code",
   "execution_count": 22,
   "metadata": {},
   "outputs": [
    {
     "name": "stdout",
     "output_type": "stream",
     "text": [
      "            temps\n",
      "date             \n",
      "2010-12-06   64.0\n",
      "2010-12-07   64.0\n",
      "2010-12-08   67.0\n",
      "2010-12-10   66.0\n",
      "2010-12-11   69.0\n",
      "...           ...\n",
      "2016-12-27   71.0\n",
      "2016-12-28   71.0\n",
      "2016-12-29   69.0\n",
      "2016-12-30   65.0\n",
      "2016-12-31   65.0\n",
      "\n",
      "[1118 rows x 1 columns]\n"
     ]
    }
   ],
   "source": [
    "dec_below_avg_temps_df = pd.DataFrame(dec_below_avg_temps, columns=['temps','date'])\n",
    "dec_below_avg_temps_df.set_index(dec_below_avg_temps_df['date'], inplace=True)\n",
    "print(dec_below_avg_temps_df.drop(['date'], axis=1))"
   ]
  },
  {
   "cell_type": "code",
   "execution_count": 23,
   "metadata": {},
   "outputs": [
    {
     "data": {
      "text/plain": [
       "temps    1118\n",
       "date     1118\n",
       "dtype: int64"
      ]
     },
     "execution_count": 23,
     "metadata": {},
     "output_type": "execute_result"
    }
   ],
   "source": [
    "dec_below_avg_temps_df.count()"
   ]
  },
  {
   "cell_type": "code",
   "execution_count": null,
   "metadata": {},
   "outputs": [],
   "source": []
  }
 ],
 "metadata": {
  "kernelspec": {
   "display_name": "PythonData",
   "language": "python",
   "name": "pythondata"
  },
  "language_info": {
   "codemirror_mode": {
    "name": "ipython",
    "version": 3
   },
   "file_extension": ".py",
   "mimetype": "text/x-python",
   "name": "python",
   "nbconvert_exporter": "python",
   "pygments_lexer": "ipython3",
   "version": "3.9.7"
  }
 },
 "nbformat": 4,
 "nbformat_minor": 4
}
